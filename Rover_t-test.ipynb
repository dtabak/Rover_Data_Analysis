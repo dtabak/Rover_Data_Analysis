{
 "cells": [
  {
   "cell_type": "markdown",
   "metadata": {},
   "source": [
    "# A/B Significance Testing"
   ]
  },
  {
   "cell_type": "markdown",
   "metadata": {},
   "source": [
    "#### This report was prepared by Duygu Tabak on 02.19.2018. "
   ]
  },
  {
   "cell_type": "markdown",
   "metadata": {},
   "source": [
    "In this notebook, hypotheses for the booking rates reagrding A/B testing groups are tested and results are presented. "
   ]
  },
  {
   "cell_type": "markdown",
   "metadata": {},
   "source": [
    "An A/B test was performed to measure the effectiveness of a new conversation flow. For those users who sent a request, they would be randomly assigned to variant or holdout groups. Those users who are in the variant group would see the new conversation flow. However, those in the holdout group would see the old conversation flow."
   ]
  },
  {
   "cell_type": "markdown",
   "metadata": {},
   "source": [
    "### Load & Inspect Data"
   ]
  },
  {
   "cell_type": "code",
   "execution_count": 2,
   "metadata": {
    "scrolled": true
   },
   "outputs": [
    {
     "data": {
      "text/html": [
       "'/Users/duygusonmez'"
      ],
      "text/latex": [
       "'/Users/duygusonmez'"
      ],
      "text/markdown": [
       "'/Users/duygusonmez'"
      ],
      "text/plain": [
       "[1] \"/Users/duygusonmez\""
      ]
     },
     "metadata": {},
     "output_type": "display_data"
    },
    {
     "data": {
      "text/html": [
       "<table>\n",
       "<thead><tr><th scope=col>id</th><th scope=col>test_group</th><th scope=col>added</th><th scope=col>person_id</th><th scope=col>is.booked</th></tr></thead>\n",
       "<tbody>\n",
       "\t<tr><td>125845 </td><td>variant</td><td>00:03.7</td><td>64411  </td><td>1      </td></tr>\n",
       "\t<tr><td>125847 </td><td>variant</td><td>47:17.5</td><td>64409  </td><td>0      </td></tr>\n",
       "\t<tr><td>125849 </td><td>variant</td><td>01:37.9</td><td>64407  </td><td>1      </td></tr>\n",
       "\t<tr><td>125851 </td><td>variant</td><td>28:38.9</td><td>64404  </td><td>1      </td></tr>\n",
       "\t<tr><td>125857 </td><td>variant</td><td>29:01.5</td><td>64397  </td><td>1      </td></tr>\n",
       "\t<tr><td>125858 </td><td>variant</td><td>22:14.2</td><td>64395  </td><td>0      </td></tr>\n",
       "</tbody>\n",
       "</table>\n"
      ],
      "text/latex": [
       "\\begin{tabular}{r|lllll}\n",
       " id & test\\_group & added & person\\_id & is.booked\\\\\n",
       "\\hline\n",
       "\t 125845  & variant & 00:03.7 & 64411   & 1      \\\\\n",
       "\t 125847  & variant & 47:17.5 & 64409   & 0      \\\\\n",
       "\t 125849  & variant & 01:37.9 & 64407   & 1      \\\\\n",
       "\t 125851  & variant & 28:38.9 & 64404   & 1      \\\\\n",
       "\t 125857  & variant & 29:01.5 & 64397   & 1      \\\\\n",
       "\t 125858  & variant & 22:14.2 & 64395   & 0      \\\\\n",
       "\\end{tabular}\n"
      ],
      "text/markdown": [
       "\n",
       "id | test_group | added | person_id | is.booked | \n",
       "|---|---|---|---|---|---|\n",
       "| 125845  | variant | 00:03.7 | 64411   | 1       | \n",
       "| 125847  | variant | 47:17.5 | 64409   | 0       | \n",
       "| 125849  | variant | 01:37.9 | 64407   | 1       | \n",
       "| 125851  | variant | 28:38.9 | 64404   | 1       | \n",
       "| 125857  | variant | 29:01.5 | 64397   | 1       | \n",
       "| 125858  | variant | 22:14.2 | 64395   | 0       | \n",
       "\n",
       "\n"
      ],
      "text/plain": [
       "  id     test_group added   person_id is.booked\n",
       "1 125845 variant    00:03.7 64411     1        \n",
       "2 125847 variant    47:17.5 64409     0        \n",
       "3 125849 variant    01:37.9 64407     1        \n",
       "4 125851 variant    28:38.9 64404     1        \n",
       "5 125857 variant    29:01.5 64397     1        \n",
       "6 125858 variant    22:14.2 64395     0        "
      ]
     },
     "metadata": {},
     "output_type": "display_data"
    }
   ],
   "source": [
    "  getwd()\n",
    "  ## Change the working directory \n",
    "  setwd(\"/Users/duygusonmez/Desktop/\")\n",
    " \n",
    "  ## Read the csv file\n",
    "  file <- 'data.csv'\n",
    "  ## Read the csv file\n",
    "  rover <- read.csv(file, header = TRUE, \n",
    "                         stringsAsFactors = FALSE)\n",
    "  \n",
    "  ## Remove cases or rows with missing values. In this case we keep the \n",
    "  ## rows which do not have nas. \n",
    "  rover <- rover[complete.cases(rover), ]\n",
    "  head(rover)"
   ]
  },
  {
   "cell_type": "markdown",
   "metadata": {},
   "source": [
    "Data was observed based on booking rates."
   ]
  },
  {
   "cell_type": "code",
   "execution_count": 4,
   "metadata": {
    "collapsed": true
   },
   "outputs": [],
   "source": [
    "  rover.holdout <- rover[rover$test_group == 'holdout',]\n",
    "  rover.variant <- rover[rover$test_group == 'variant',]\n",
    "  rover.holdout.is.booked <- (rover.holdout$is.booked)\n",
    "  rover.variant.is.booked <- (rover.variant$is.booked)"
   ]
  },
  {
   "cell_type": "markdown",
   "metadata": {},
   "source": [
    "Then, t-testing was performed to find out the significance of A/B test."
   ]
  },
  {
   "cell_type": "code",
   "execution_count": 5,
   "metadata": {},
   "outputs": [
    {
     "data": {
      "text/plain": [
       "\n",
       "\tWelch Two Sample t-test\n",
       "\n",
       "data:  rover.holdout.is.booked and rover.variant.is.booked\n",
       "t = -10.253, df = 22490, p-value < 2.2e-16\n",
       "alternative hypothesis: true difference in means is not equal to 0\n",
       "95 percent confidence interval:\n",
       " -0.07985235 -0.05422145\n",
       "sample estimates:\n",
       "mean of x mean of y \n",
       "0.3753873 0.4424242 \n"
      ]
     },
     "metadata": {},
     "output_type": "display_data"
    }
   ],
   "source": [
    " t.test(rover.holdout.is.booked, rover.variant.is.booked, alternative = \"two.sided\")"
   ]
  },
  {
   "cell_type": "markdown",
   "metadata": {},
   "source": [
    "### Results"
   ]
  },
  {
   "cell_type": "markdown",
   "metadata": {},
   "source": [
    "* There is a difference between means. The mean of the booking rate of the variant test group is slightly higher.  \n",
    "* Since P-value is much less than zero, any observed booking rate difference is not due to random sampling error.\n",
    "* Both sides of the 95% confidence interval is on the same side of zero.\n",
    "* All the above suggests the new conversation flow is usually going to have a positive impact on booking rates."
   ]
  },
  {
   "cell_type": "code",
   "execution_count": null,
   "metadata": {
    "collapsed": true
   },
   "outputs": [],
   "source": []
  }
 ],
 "metadata": {
  "kernelspec": {
   "display_name": "R",
   "language": "R",
   "name": "ir"
  },
  "language_info": {
   "codemirror_mode": "r",
   "file_extension": ".r",
   "mimetype": "text/x-r-source",
   "name": "R",
   "pygments_lexer": "r",
   "version": "3.4.3"
  }
 },
 "nbformat": 4,
 "nbformat_minor": 2
}
